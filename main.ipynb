{
 "cells": [
  {
   "attachments": {},
   "cell_type": "markdown",
   "metadata": {},
   "source": [
    "Базовый метод СЛАУ"
   ]
  },
  {
   "cell_type": "code",
   "execution_count": 18,
   "metadata": {},
   "outputs": [
    {
     "name": "stderr",
     "output_type": "stream",
     "text": [
      "/Library/Frameworks/Python.framework/Versions/3.11/lib/python3.11/site-packages/scipy/sparse/linalg/_dsolve/linsolve.py:485: SparseEfficiencyWarning: spilu converted its input to CSC format\n",
      "  warn('spilu converted its input to CSC format',\n",
      "/Library/Frameworks/Python.framework/Versions/3.11/lib/python3.11/site-packages/scipy/sparse/linalg/_dsolve/linsolve.py:640: SparseEfficiencyWarning: CSR matrix format is required. Converting to CSR matrix.\n",
      "  warn('CSR matrix format is required. Converting to CSR matrix.',\n"
     ]
    },
    {
     "data": {
      "text/plain": [
       "(10,\n",
       " 9,\n",
       " 5.031965304193132,\n",
       " 3.831329223564748,\n",
       " array([1.81161792, 1.49108403, 1.62509561, 1.47412748]),\n",
       " array([1.41924087, 1.10777768, 1.02135432, 0.85531031]))"
      ]
     },
     "execution_count": 18,
     "metadata": {},
     "output_type": "execute_result"
    }
   ],
   "source": [
    "import numpy as np\n",
    "import scipy.sparse as sp\n",
    "import scipy.sparse.linalg as spla\n",
    "\n",
    "def jacobi(A, b, x0, tol=1e-6, max_iterations=1000):\n",
    "    n = len(b)\n",
    "    D = np.diag(A)  # Extract diagonal of A\n",
    "    R = A - np.diagflat(D)  # Remainder matrix\n",
    "    \n",
    "    x = x0.copy()\n",
    "    for _ in range(max_iterations):\n",
    "        x_new = (b - np.dot(R, x)) / D\n",
    "        if np.linalg.norm(x_new - x) < tol:\n",
    "            return x_new\n",
    "        x = x_new\n",
    "    return x\n",
    "\n",
    "# Define the initial conditions for testing\n",
    "A_initial = np.array([[4, -1, 0, 0],\n",
    "                      [-1, 4, -1, 0],\n",
    "                      [0, -1, 4, -1],\n",
    "                      [0, 0, -1, 3]], dtype=float)\n",
    "\n",
    "b_initial = np.array([15, 10, 10, 10], dtype=float)\n",
    "x0_initial = np.zeros_like(b_initial)\n",
    "\n",
    "solution_initial = jacobi(A_initial, b_initial, x0_initial)\n",
    "\n",
    "# Create a diagonally dominant matrix A for better convergence\n",
    "n = len(b_initial)\n",
    "diagonals = [-1 * np.ones(n-1), 10 * np.ones(n), -1 * np.ones(n-1)]\n",
    "A_dominant = sp.diags(diagonals, [-1, 0, 1], format=\"csr\")\n",
    "\n",
    "def jacobi_preconditioned(A, B_inv, b, x0, tol=1e-6, max_iterations=10000):\n",
    "    n = len(b)\n",
    "    D = A.diagonal()  # Extract diagonal of A\n",
    "    R = A - sp.diags(D)  # Remainder matrix\n",
    "    \n",
    "    x = x0.copy()\n",
    "    for k in range(max_iterations):\n",
    "        # Solve the preconditioned system Bx_new = b - Rx\n",
    "        x_new = B_inv.dot(b - R.dot(x))\n",
    "        if np.linalg.norm(x_new - x) < tol:\n",
    "            return x_new, k+1  # Return the solution and number of iterations\n",
    "        x = x_new\n",
    "    return x, k+1  # If it doesn't converge within max_iterations\n",
    "\n",
    "def compute_ilu_B_inv(A):\n",
    "    ilu_factorization = spla.spilu(A)\n",
    "    # Define a function to perform the inverse operation of B using L and U\n",
    "    def B_inv_action(v):\n",
    "        y = spla.spsolve_triangular(ilu_factorization.L, v, lower=True)\n",
    "        return spla.spsolve_triangular(ilu_factorization.U, y, lower=False)\n",
    "    B_inv = spla.LinearOperator(A.shape, matvec=B_inv_action)\n",
    "    return B_inv\n",
    "\n",
    "# Compute B_inv for the new A using ILU\n",
    "B_ilu_inv_dominant = compute_ilu_B_inv(A_dominant)\n",
    "\n",
    "# Test the preconditioned Jacobi method with ILU preconditioner for the new A\n",
    "solution_ilu_dominant, iterations_ilu_dominant = jacobi_preconditioned(A_dominant, B_ilu_inv_dominant, b_initial, x0_initial)\n",
    "\n",
    "# Test the preconditioned Jacobi method with Identity matrix as preconditioner for the new A\n",
    "#B_eye_inv = np.eye(n)\n",
    "#solution_eye_dominant, iterations_eye_dominant = jacobi_preconditioned(A_dominant, B_eye_inv, b_initial, x0_initial)\n",
    "# Generate a random matrix\n",
    "B_random = np.random.rand(n, n)\n",
    "\n",
    "# Ensure it's invertible by adding a large scalar to its diagonal (making it dominant)\n",
    "B_random += np.eye(n) * 10\n",
    "\n",
    "# Compute its inverse\n",
    "B_random_inv = np.linalg.inv(B_random)\n",
    "\n",
    "# Test the preconditioned Jacobi method with the random matrix as the preconditioner for the new A\n",
    "solution_random_dominant, iterations_random_dominant = jacobi_preconditioned(A_dominant, B_random_inv, b_initial, x0_initial)\n",
    "\n",
    "\n",
    "\n",
    "# Calculate epsilon errors\n",
    "error_ilu = np.linalg.norm(A_dominant.dot(solution_ilu_dominant) - b_initial)\n",
    "#error_eye = np.linalg.norm(A_dominant.dot(solution_eye_dominant) - b_initial)\n",
    "error_random = np.linalg.norm(A_dominant.dot(solution_random_dominant) - b_initial)\n",
    "\n",
    "\n",
    "#iterations_ilu_dominant, iterations_eye_dominant, error_ilu, error_eye, solution_ilu_dominant, solution_eye_dominant\n",
    "iterations_ilu_dominant, iterations_random_dominant, error_ilu, error_random, solution_ilu_dominant, solution_random_dominant\n"
   ]
  },
  {
   "cell_type": "code",
   "execution_count": 22,
   "metadata": {},
   "outputs": [
    {
     "name": "stderr",
     "output_type": "stream",
     "text": [
      "/var/folders/r5/11z3453j76jc05_sqjgl82j40000gs/T/ipykernel_41278/353820171.py:43: RuntimeWarning: overflow encountered in subtract\n",
      "  if np.linalg.norm(x_new - x) < tol:\n"
     ]
    },
    {
     "data": {
      "text/plain": [
       "(13, 10000, 17.32554136800965, nan)"
      ]
     },
     "execution_count": 22,
     "metadata": {},
     "output_type": "execute_result"
    }
   ],
   "source": [
    "# Increase the size of the matrix and vectors\n",
    "n_large = 10_000\n",
    "\n",
    "# Create a larger diagonally dominant matrix A for better convergence\n",
    "diagonals_large = [-1 * np.ones(n_large-1), 10 * np.ones(n_large), -1 * np.ones(n_large-1)]\n",
    "A_dominant_large = sp.diags(diagonals_large, [-1, 0, 1], format=\"csr\")\n",
    "\n",
    "# Larger b vector\n",
    "b_large = np.random.rand(n_large)\n",
    "\n",
    "# Initial guess\n",
    "x0_large = np.zeros_like(b_large)\n",
    "\n",
    "# Compute B_inv for the new large A using ILU\n",
    "B_ilu_inv_large = compute_ilu_B_inv(A_dominant_large)\n",
    "\n",
    "# Test the preconditioned Jacobi method with ILU preconditioner for the larger matrix\n",
    "solution_ilu_large, iterations_ilu_large = jacobi_preconditioned(A_dominant_large, B_ilu_inv_large, b_large, x0_large)\n",
    "\n",
    "# Generate a random matrix for the larger system\n",
    "B_random_large = np.random.rand(n_large, n_large)\n",
    "B_random_large += np.eye(n_large) * 10  # Ensure it's invertible\n",
    "B_random_inv_large = np.linalg.inv(B_random_large)\n",
    "\n",
    "# Test the preconditioned Jacobi method with the random matrix as the preconditioner for the larger matrix\n",
    "solution_random_large, iterations_random_large = jacobi_preconditioned(A_dominant_large, B_random_inv_large, b_large, x0_large)\n",
    "\n",
    "# Calculate epsilon errors for the larger system\n",
    "error_ilu_large = np.linalg.norm(A_dominant_large.dot(solution_ilu_large) - b_large)\n",
    "error_random_large = np.linalg.norm(A_dominant_large.dot(solution_random_large) - b_large)\n",
    "\n",
    "iterations_ilu_large, iterations_random_large, error_ilu_large, error_random_large"
   ]
  }
 ],
 "metadata": {
  "kernelspec": {
   "display_name": "Python 3",
   "language": "python",
   "name": "python3"
  },
  "language_info": {
   "codemirror_mode": {
    "name": "ipython",
    "version": 3
   },
   "file_extension": ".py",
   "mimetype": "text/x-python",
   "name": "python",
   "nbconvert_exporter": "python",
   "pygments_lexer": "ipython3",
   "version": "3.11.1"
  },
  "orig_nbformat": 4
 },
 "nbformat": 4,
 "nbformat_minor": 2
}
